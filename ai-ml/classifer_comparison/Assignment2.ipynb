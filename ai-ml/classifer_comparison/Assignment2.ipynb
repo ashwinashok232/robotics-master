{
 "cells": [
  {
   "cell_type": "markdown",
   "metadata": {},
   "source": [
    "# Assignment #2 - Classification\n",
    "\n",
    "<font color=\"red\"> <b> Due: April 10  EOD</b> </font>"
   ]
  },
  {
   "cell_type": "markdown",
   "metadata": {},
   "source": [
    "<font color=\"blue\"> Ashwin Ashok </font>"
   ]
  },
  {
   "cell_type": "markdown",
   "metadata": {},
   "source": [
    "# I. Introduction\n",
    "\n",
    "The goal of this assignment is to compare classification models on a set of data that measures whether or not a client will subscribe to a term deposit. The classifiers are implemented using the prml library, and the basis of classification are precision, accuracy and recall, which are all derived from the confusion matrix for each classifier."
   ]
  },
  {
   "cell_type": "markdown",
   "metadata": {},
   "source": [
    "# II. Data\n",
    "\n",
    "You may choose one of the following three datasets to work on. Introduce your data and visualize them. Describe your observations about the data. \n",
    "1. https://archive.ics.uci.edu/ml/datasets/covertype\n",
    "2. https://archive.ics.uci.edu/ml/datasets/bank+marketing\n",
    "3. https://archive.ics.uci.edu/ml/datasets/Activity+recognition+using+wearable+physiological+measurements (data download link - https://www.ncbi.nlm.nih.gov/pmc/articles/PMC6960825/bin/sensors-19-05524-s001.zip)\n",
    "\n",
    "\n",
    "\n",
    "The second dataset was chosen. It is a 16 feature dataset with 45,211 data points per feature. The output is a binary classification (yes or no), and is thus readily usable by the prml library (i.e. no adjustments have to be made to the source code to make it compatible with multiclass problems, since the target only has two classes). The main complication in applying classifiers to this data is that some features are defined by strings. In order to apply the prml classification methods, these must be converted to numerical format. Below, the number of unique values in each feature are shown. It can be said that there is a mix of discrete and (comparatively) continuous variables. Given that the data is not binary, this also suggests that scaling may be necessary for normalization.\n"
   ]
  },
  {
   "cell_type": "code",
   "execution_count": 34,
   "metadata": {},
   "outputs": [
    {
     "name": "stdout",
     "output_type": "stream",
     "text": [
      "77\n",
      "12\n",
      "3\n",
      "4\n",
      "2\n",
      "7168\n",
      "2\n",
      "2\n",
      "3\n",
      "31\n",
      "12\n",
      "1573\n",
      "48\n",
      "559\n",
      "41\n",
      "4\n"
     ]
    }
   ],
   "source": [
    "df = pd.read_csv('bank-full.csv',delimiter=';')\n",
    "feature_cols = df.columns.to_list()\n",
    "feature_cols.remove('y')\n",
    "x_input = np.asarray(df[feature_cols])\n",
    "y_input = np.asarray(df['y'])\n",
    "\n",
    "for col in range(x_input.shape[1]):\n",
    "    unique = len(np.unique(x_input[:,col]))\n",
    "    print(unique)"
   ]
  },
  {
   "cell_type": "markdown",
   "metadata": {},
   "source": [
    "# III. Method\n",
    "\n",
    "Summarize the Least Mean Square Classifier, Fisher Linear Discriminant, Perceptron,logistic regression, and Neural Network.\n",
    "Do not forget explain your implementation. \n",
    "\n",
    "The explanation of your codes should not be the comments in a code cell. \n",
    "Each implementation will be followed by a separate cell that should include\n",
    " - review of the 4 classification models \n",
    " - your implementation and description\n"
   ]
  },
  {
   "cell_type": "markdown",
   "metadata": {},
   "source": [
    "### Least Mean Square\n",
    "\n",
    "#### Review\n",
    "Least Mean Squares (LMS) is a classificaiotn method where the decision boundaries are found by minimizing the error function for all components of the label. The minimization computation involves finding the pseudoinverse, using which the optimal (minimum) error value and its associated decision boundary can be found. The major drawbacks of this method is that it is sensitive to outliers and is computationally expensive.\n",
    "\n",
    "#### Implementation and Description\n",
    "The prml library function LeastSquaresClassifier is used to generate the fit. The confusion matrix for the fit is then generated using sklearn, and the accuracy, precision and recall are calcualted using empirical formulae.\n",
    "\n"
   ]
  },
  {
   "cell_type": "markdown",
   "metadata": {},
   "source": [
    "### Fisher Linear Discriminant\n",
    "\n",
    "#### Review\n",
    "The Fisher Linear Discriminant is a method of classification that accounts for high variance (possibly by presence of many outliers) within a class. It seeks to maximize the fisher criterion, which is the ratio of inter-class means to intra-class variance. In other words, it seeks to maximize separation between classes, whike giving a small variance within each class.\n",
    "\n",
    "#### Implementation and Description\n",
    "The prml function LogisticRegression() is used to generate the fit. The confusion matrix is used as previously described.\n",
    "\n"
   ]
  },
  {
   "cell_type": "markdown",
   "metadata": {},
   "source": [
    "### Logistic Regression\n",
    "\n",
    "#### Review\n",
    "Logistic regression is a probabilistic method of classification. It is type of probabilitic discrimative model. This means that LR does not make assumptions about the structure of the class, and uses the explicit form of the structure. It thus calculates the probabiity of a class without finding the priors in the process, leading to fewer parameters.\n",
    "\n",
    "#### Implementation and Description\n",
    "The prml function Perceptron() is used to generate the fit. The confusion matrix is used as previously described.\n"
   ]
  },
  {
   "cell_type": "markdown",
   "metadata": {},
   "source": [
    "### Perceptron\n",
    "\n",
    "#### Review\n",
    "Perceptrons consist of inputs, weight layers, and thresholds. This method also uses a stochastic gradient descent, but only updates the weights if the predicted value was misclassified. The major drawback of this method is that it is not guaranteed to converge if the data is not linearly separable. In other words, if the decision boundary for the data is not a straight line, it cannot solve the classification problem.\n",
    "\n",
    "#### Implementation and Description\n",
    "The prml function Perceptron() is used to generate the fit. The confusion matrix is used as previously described.\n"
   ]
  },
  {
   "cell_type": "markdown",
   "metadata": {},
   "source": [
    "# IV. Experiments\n",
    "\n",
    "Apply the classfiers on the data and discuss the results.\n",
    "Please describe your codes for experiments. You may have subsections of results and discussions here.\n",
    "Here follows the list that you consider to include:\n",
    "- the classification results\n",
    "- plots of classification results \n",
    "- model comparision \n",
    "- choice of evaluation metrics\n",
    "- **Must partition data into training and testing**"
   ]
  },
  {
   "cell_type": "code",
   "execution_count": 35,
   "metadata": {},
   "outputs": [
    {
     "name": "stdout",
     "output_type": "stream",
     "text": [
      "Requirement already satisfied: prml in /Users/ashwinashok/opt/anaconda3/lib/python3.8/site-packages/prml-0.0.1-py3.8.egg (0.0.1)\n",
      "Requirement already satisfied: numpy in /Users/ashwinashok/opt/anaconda3/lib/python3.8/site-packages (from prml) (1.19.2)\n",
      "Requirement already satisfied: scipy in /Users/ashwinashok/opt/anaconda3/lib/python3.8/site-packages (from prml) (1.5.2)\n"
     ]
    }
   ],
   "source": [
    "import numpy as np\n",
    "import pandas as pd\n",
    "from sklearn.model_selection import train_test_split\n",
    "! pip install prml\n",
    "from prml.preprocess import PolynomialFeature\n",
    "from prml.linear import (\n",
    "    BayesianLogisticRegression,\n",
    "    LeastSquaresClassifier,\n",
    "    FishersLinearDiscriminant,\n",
    "    LogisticRegression,\n",
    "    Perceptron,\n",
    "    SoftmaxRegression\n",
    ")\n",
    "import matplotlib.pyplot as plt\n",
    "from prml import nn\n",
    "from sklearn import model_selection\n",
    "from sklearn.preprocessing import LabelEncoder\n",
    "from sklearn.metrics import f1_score\n",
    "from sklearn.metrics import confusion_matrix\n",
    "import matplotlib.pyplot as plt\n",
    "\n",
    "#Importing Data\n",
    "df = pd.read_csv('bank-full.csv',delimiter=';')\n",
    "feature_cols = df.columns.to_list()\n",
    "feature_cols.remove('y')\n",
    "x_input = np.asarray(df[feature_cols])\n",
    "y_input = np.asarray(df['y'])\n",
    "\n",
    "label_encoder = LabelEncoder()\n",
    "for col in range(x_input.shape[1]):\n",
    "    if type(x_input[0,col]) == str:\n",
    "        x_input[:,col] = label_encoder.fit_transform(x_input[:,col])\n",
    "\n",
    "y_input = label_encoder.fit_transform(y_input)\n",
    "\n",
    "x_scaled = np.zeros(x_input.shape)\n",
    "for col in range(x_input.shape[1]):\n",
    "    min_arr = min(x_input[:,col])\n",
    "    scale_factor = 1/(max(x_input[:,col])-min(x_input[:,col]))\n",
    "    x_scaled[:,col] = (x_input[:,col] - min_arr)*scale_factor \n",
    "\n",
    "x_train,x_test,y_train,y_test = train_test_split(x_scaled,y_input,train_size=0.8,random_state=42)"
   ]
  },
  {
   "cell_type": "markdown",
   "metadata": {},
   "source": [
    "#### Description\n",
    "This section imports all relevant libraries. Then it reads the data and assigns it to a pandas dataframe. The feature and target variables columns are extracted (x_input and y_input). Then, the features are encoded using LabelEncoder(), and this is applied only to columns which have non-integer data. The features are then scaled in order to normalize them, using the formula x-min(x)/min(x)-max(x). Finally, the data is split into 80% training data and 20% test data, and assigned an integer random state for repeatability."
   ]
  },
  {
   "cell_type": "code",
   "execution_count": 36,
   "metadata": {},
   "outputs": [
    {
     "name": "stdout",
     "output_type": "stream",
     "text": [
      "[[7872   80]\n",
      " [ 952  139]]\n",
      "Accuracy =  0.8858785801172178\n",
      "Precision =  0.634703196347032\n",
      "Recall =  0.12740604949587533\n"
     ]
    }
   ],
   "source": [
    "#Least Mean Square\n",
    "feature = PolynomialFeature(1)\n",
    "X_train = feature.transform(x_train)\n",
    "X_test = feature.transform(x_test)\n",
    "\n",
    "model = LeastSquaresClassifier()\n",
    "model.fit(X_train, y_train)\n",
    "y_lms = model.classify(X_test)\n",
    "\n",
    "cm = confusion_matrix(y_test, y_lms)\n",
    "tp = cm[1,1] #True positive\n",
    "fp = cm[0,1] #False positive\n",
    "tn = cm[0,0] #True negative\n",
    "fn = cm[1,0] #False negative\n",
    "\n",
    "print(cm)\n",
    "acc_lms = (tp+tn)/(tp+tn+fp+fn)\n",
    "print('Accuracy = ',acc_lms)\n",
    "prec_lms = tp/(tp+fp)\n",
    "print('Precision = ',prec_lms)\n",
    "rec_lms = tp/(tp+fn)\n",
    "print('Recall = ',rec_lms)"
   ]
  },
  {
   "cell_type": "markdown",
   "metadata": {},
   "source": [
    "#### Description\n",
    "This section implements the Least Mean Squares Classifier. The LeastSquaresClassfier() command from prml is used. The confusion matrix is derived and the accuracy, recall and precision are found for each. The outputs are the confusion matrix, accuracy, precision and recall. These metrics are a good measure of how well the model fits the data and how reliable it is at predicting relevant results. The same structure of code is used for all of the following sections, but different classifiers are implemented."
   ]
  },
  {
   "cell_type": "code",
   "execution_count": 37,
   "metadata": {},
   "outputs": [
    {
     "name": "stdout",
     "output_type": "stream",
     "text": [
      "[[7793  159]\n",
      " [ 854  237]]\n",
      "Accuracy =  0.8879796527700984\n",
      "Precision =  0.5984848484848485\n",
      "Recall =  0.21723189734188816\n"
     ]
    }
   ],
   "source": [
    "#Logistic Regression\n",
    "feature = PolynomialFeature(1)\n",
    "X_train = feature.transform(x_train)\n",
    "X_test = feature.transform(x_test)\n",
    "\n",
    "logistic_regression = LogisticRegression()\n",
    "logistic_regression.fit(X_train, y_train)\n",
    "y_lr = logistic_regression.classify(X_test)\n",
    "\n",
    "\n",
    "cm = confusion_matrix(y_test, y_lr)\n",
    "tp = cm[1,1] #True positive\n",
    "fp = cm[0,1] #False positive\n",
    "tn = cm[0,0] #True negative\n",
    "fn = cm[1,0] #False negative\n",
    "\n",
    "print(cm)\n",
    "acc_lr = (tp+tn)/(tp+tn+fp+fn)\n",
    "print('Accuracy = ',acc_lr)\n",
    "prec_lr = tp/(tp+fp)\n",
    "print('Precision = ',prec_lr)\n",
    "rec_lr = tp/(tp+fn)\n",
    "print('Recall = ',rec_lr)"
   ]
  },
  {
   "cell_type": "code",
   "execution_count": 38,
   "metadata": {},
   "outputs": [
    {
     "name": "stdout",
     "output_type": "stream",
     "text": [
      "[[6450 1502]\n",
      " [ 241  850]]\n",
      "Accuracy =  0.8072542297909986\n",
      "Precision =  0.36139455782312924\n",
      "Recall =  0.7791017415215399\n"
     ]
    }
   ],
   "source": [
    "#Fisher Linear Discriminant\n",
    "model = FishersLinearDiscriminant()\n",
    "model.fit(x_train, y_train)\n",
    "y_fish = model.classify(x_test)\n",
    "\n",
    "cm = confusion_matrix(y_test, y_fish)\n",
    "tp = cm[1,1] #True positive\n",
    "fp = cm[0,1] #False positive\n",
    "tn = cm[0,0] #True negative\n",
    "fn = cm[1,0] #False negative\n",
    "\n",
    "print(cm)\n",
    "acc_fish = (tp+tn)/(tp+tn+fp+fn)\n",
    "print('Accuracy = ',acc_fish)\n",
    "prec_fish = tp/(tp+fp)\n",
    "print('Precision = ',prec_fish)\n",
    "rec_fish = tp/(tp+fn)\n",
    "print('Recall = ',rec_fish)"
   ]
  },
  {
   "cell_type": "code",
   "execution_count": 39,
   "metadata": {},
   "outputs": [
    {
     "name": "stdout",
     "output_type": "stream",
     "text": [
      "[[   0 7952]\n",
      " [   0 1091]]\n",
      "Accuracy =  0.1206458033838328\n",
      "Precision =  0.1206458033838328\n",
      "Recall =  1.0\n"
     ]
    }
   ],
   "source": [
    "#Perceptron\n",
    "model = Perceptron()\n",
    "model.fit(x_train, y_train)\n",
    "y_perc = model.classify(x_test)\n",
    "\n",
    "cm = confusion_matrix(y_test, y_perc)\n",
    "tp = cm[1,1] #True positive\n",
    "fp = cm[0,1] #False positive\n",
    "tn = cm[0,0] #True negative\n",
    "fn = cm[1,0] #False negative\n",
    "\n",
    "print(cm)\n",
    "acc_perc = (tp+tn)/(tp+tn+fp+fn)\n",
    "print('Accuracy = ',acc_perc)\n",
    "prec_perc = tp/(tp+fp)\n",
    "print('Precision = ',prec_perc)\n",
    "rec_perc = tp/(tp+fn)\n",
    "print('Recall = ',rec_perc)"
   ]
  },
  {
   "cell_type": "code",
   "execution_count": 40,
   "metadata": {},
   "outputs": [
    {
     "data": {
      "image/png": "[encoded data removed]",
      "text/plain": [
       "<Figure size 432x288 with 1 Axes>"
      ]
     },
     "metadata": {
      "needs_background": "light"
     },
     "output_type": "display_data"
    },
    {
     "data": {
      "image/png": "[encoded data removed]",
      "text/plain": [
       "<Figure size 432x288 with 1 Axes>"
      ]
     },
     "metadata": {
      "needs_background": "light"
     },
     "output_type": "display_data"
    },
    {
     "data": {
      "image/png": "[encoded data removed]",
      "text/plain": [
       "<Figure size 432x288 with 1 Axes>"
      ]
     },
     "metadata": {
      "needs_background": "light"
     },
     "output_type": "display_data"
    }
   ],
   "source": [
    "#Comparison\n",
    "\n",
    "#Accuracy\n",
    "fig = plt.figure()\n",
    "ax = fig.add_axes([0,0,1,1])\n",
    "models = ['LMS', 'Logistic', 'Fisher', 'Perceptron']\n",
    "accs = [acc_lms,acc_lr,acc_fish,acc_perc]\n",
    "ax.bar(models,accs)\n",
    "plt.xlabel('Model', fontsize=16)\n",
    "plt.ylabel('Accuracy', fontsize=16)\n",
    "plt.show()\n",
    "\n",
    "#Recall\n",
    "fig = plt.figure()\n",
    "ax = fig.add_axes([0,0,1,1])\n",
    "models = ['LMS', 'Logistic', 'Fisher', 'Perceptron']\n",
    "accs = [rec_lms,rec_lr,rec_fish,rec_perc]\n",
    "ax.bar(models,accs)\n",
    "plt.xlabel('Model', fontsize=16)\n",
    "plt.ylabel('Recall', fontsize=16)\n",
    "plt.show()\n",
    "\n",
    "#Precision\n",
    "fig = plt.figure()\n",
    "ax = fig.add_axes([0,0,1,1])\n",
    "models = ['LMS', 'Logistic', 'Fisher', 'Perceptron']\n",
    "accs = [prec_lms,prec_lr,prec_fish,prec_perc]\n",
    "ax.bar(models,accs)\n",
    "plt.xlabel('Model', fontsize=16)\n",
    "plt.ylabel('Precision', fontsize=16)\n",
    "plt.show()"
   ]
  },
  {
   "cell_type": "markdown",
   "metadata": {},
   "source": [
    "#### Description\n",
    "This section of code compares the classifiers based on plots of accuracy, precision and recall. The bar plot from matplotlib are used."
   ]
  },
  {
   "cell_type": "markdown",
   "metadata": {},
   "source": [
    "### Discussion of Results\n",
    "\n",
    "The plots shown above are discussed in this section. Note that there no plots are provided with classification boundaries since the data has 16 features. It is not possible to provide a plot for data with more than 2 features, and experiments in choosing 2 features to base the plot on provided uninformative graphs. It is likely the case that there are no two major features in the given data, and that isolating two featrues would not be informative on its own.\n",
    "\n",
    "#### Accuracy Comparison\n",
    "Least Mean Squared (LMS) and Logistic regression (LR) have the highest, and almost identical, accuracy scores. This suggests that the models developed with the LMS and LR models most closely matched the test set. They have accuracies of 0.8858 and 0.8879 respectively. Heuristically, these accuracies are rather high and suggest that the provided features are well-correlated with the target (whether or not a client will subscribe to a term deposit).\n",
    "\n",
    "\n",
    "#### Recall Comparison\n",
    "The order from accuracy seems to be reversed in the plot of recalls, where Perceptron (P) has by far the highest recall. However,this may not be a good measurement of the classifier's effectiveness. Recall measures the % of total relevant results that have been correctly classified. The perceptron's confusion matrix suggests that there are 0 false negatives by several false positives in the predicted values. So, all the values of the perceptrons output are 1, thereby making the recall value unreliable when considered in isolation. The reason for this is unclear, but it may be because the data is not linearly separable and thus the perceptron failed to generate a proper model. Another reason may be that the source code for the perceptron is not made to handle more than two features, whereas the provided data has 16 features.\n",
    "\n",
    "These results also imply that the most accurate models may have a bias against positive predictions. This is because a low recall suggests a greater number of false negatives. This can be fixed by lowering the decision boundary.\n",
    "\n",
    "#### Precision Comparison\n",
    "Precision measures the % of relevant results that are accurate. The precision plot suggests that LMS leads to the highest precision, with LR being a close second. This indicates that a positive prediction in LMS and LR are more reliable than a positive prediction by the other models.\n"
   ]
  },
  {
   "cell_type": "markdown",
   "metadata": {},
   "source": [
    "# Conclusions\n",
    "\n",
    "#### Summarize your work here.\n",
    "\n",
    "Using the PRML library to apply the Least Mean Squares, Fisher Linear Discriminant, Perceptron, and Logistic Regression Classifiers on the second data set, the accuracy, precision and recall of the predicted value for each model was studied. It was found that the LMS model led to the highest precision (0.635), and was approximately equal to the highest accuracy (0.886). Perceptron had the highest recall, but this was found to be due a bias towards false positives. LMS had the lowest recall (0.127), but this can be combatted by lowering the decision boundary. Given that Logistic Regression has the (marginally) highest accuracy (0.888), and a similar precision to LMS (0.598) while having a much higher recall (0.211), it is the best classifier for the given data.\n",
    "\n",
    "\n",
    "#### Discuss the challenges or somethat that you learned.\n",
    "One of the main challenges was figuring out how to plot the classifier. I learned that for more than 2 features, it is not akways possible to plot the classifier results and the decision boundary.\n",
    "\n",
    "\n",
    "#### If you have any suggestion about the assignment, you can write about it.\n",
    "It was a little unclear what went under each section of the assignment. I was not sure if implementation was supposed to go under methods (as is implied in the guide under methods) and of what was supposed to be in the experiments section.\n"
   ]
  },
  {
   "cell_type": "markdown",
   "metadata": {},
   "source": [
    "# References\n",
    "\n",
    "Bishop Textbook, Lecture Notes"
   ]
  },
  {
   "cell_type": "code",
   "execution_count": null,
   "metadata": {},
   "outputs": [],
   "source": []
  }
 ],
 "metadata": {
  "kernelspec": {
   "display_name": "Python 3",
   "language": "python",
   "name": "python3"
  },
  "language_info": {
   "codemirror_mode": {
    "name": "ipython",
    "version": 3
   },
   "file_extension": ".py",
   "mimetype": "text/x-python",
   "name": "python",
   "nbconvert_exporter": "python",
   "pygments_lexer": "ipython3",
   "version": "3.8.5"
  }
 },
 "nbformat": 4,
 "nbformat_minor": 4
}
