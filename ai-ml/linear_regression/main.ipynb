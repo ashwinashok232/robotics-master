{
 "cells": [
  {
   "cell_type": "markdown",
   "metadata": {
    "id": "canadian-philadelphia"
   },
   "source": [
    "#### For this Assignment you have been given a data which is a subset of a bigger dataset which was collected by Buffalo Tax department. It contains information regarding the various properties in Buffalo.\n",
    "\n",
    "Number of Instances: 92508\n",
    "\n",
    "Number of Attributes: 16 (including the target variable)\n",
    "\n",
    "Attribute Information:\n",
    "\n",
    "| Column Name                | Description                                                                                                                                      | Type        |\n",
    "|----------------------------|--------------------------------------------------------------------------------------------------------------------------------------------------|-------------|\n",
    "| TOTAL VALUE                | The combined assessed value of the land and improvements on the parcel                                                                           | Number      |\n",
    "| FRONT                      | The width of the front of property (in feet)                                                                                                     | Number      |\n",
    "| DEPTH                      | The depth of the property (in feet)                                                                                                              | Number      |\n",
    "| PROPERTY CLASS             | Property Type Classification Codes describe the primary use of each parcel of real property on the assessment roll                               | Number      |\n",
    "| LAND VALUE                 | The assessed value of the land                                                                                                                   | Number      |\n",
    "| SALE PRICE                 | The price that the parcel of real property was last sold for                                                                                     | Number      |\n",
    "| YEAR BUILT                 | The year the primary building on the parcel was built                                                                                            | Number      |\n",
    "| TOTAL LIVING AREA          | The amount of living space (in square feet)                                                                                                      | Number      |\n",
    "| OVERALL CONDITION          | A grade of the condition of the property                                                                                                         | Number      |\n",
    "| BUILDING STYLE             | A code for the style of building                                                                                                                 | Number      |\n",
    "| HEAT TYPE                  | The type of heating system in the building (only applicable to residential properties)                                                           | Number      |\n",
    "| BASEMENT TYPE              | The type of basement on the property (only applicable to residential properties)                                                                 | Number      |\n",
    "| # OF STORIES               | The number of floors/Stories in the property                                                                                                     | Number      |\n",
    "| # OF FIREPLACES            | The number of fireplaces in a dwelling (only applicable to residential properties)                                                               | Number      |\n",
    "| # OF BEDS                  | The number of beds in a dwelling (only applicable to residential properties)                                                                     | Number      |\n",
    "| # OF BATHS                 | The number of baths in a dwelling (only applicable to residential properties)                                                                    | Number      |\n",
    "| # OF KITCHENS              | The number of kitchens in a dwelling (only applicable to residential properties)                                                                 | Number      |\n",
    "\n",
    "\n",
    "\n",
    "There are no missing Attribute Values.\n",
    "\n",
    "Your task is to implement a Linear Regression Model to predict the TOTAL VALUE of a property"
   ]
  },
  {
   "cell_type": "code",
   "execution_count": 596,
   "metadata": {
    "id": "planned-perry"
   },
   "outputs": [],
   "source": [
    "import pandas as pd\n",
    "import numpy as np\n",
    "from sklearn.model_selection import train_test_split\n",
    "import sklearn\n",
    "import matplotlib.pyplot as plt\n",
    "\n",
    "%matplotlib inline"
   ]
  },
  {
   "cell_type": "markdown",
   "metadata": {
    "id": "traditional-tissue"
   },
   "source": [
    "#### STEP 1 - Load Data (Already Done)"
   ]
  },
  {
   "cell_type": "code",
   "execution_count": 597,
   "metadata": {
    "id": "measured-report"
   },
   "outputs": [],
   "source": [
    "df = pd.read_csv('data.csv', dtype=np.float64)"
   ]
  },
  {
   "cell_type": "code",
   "execution_count": 598,
   "metadata": {
    "id": "preliminary-wireless"
   },
   "outputs": [
    {
     "name": "stdout",
     "output_type": "stream",
     "text": [
      "(92508, 15)\n"
     ]
    }
   ],
   "source": [
    "y = np.asarray(df['TOTAL VALUE'] )\n",
    "y = y.reshape(y.shape[0],1)\n",
    "feature_cols = df.columns.to_list()\n",
    "feature_cols.remove('TOTAL VALUE')\n",
    "x = np.asarray(df[feature_cols])\n",
    "print(x.shape)"
   ]
  },
  {
   "cell_type": "markdown",
   "metadata": {
    "id": "available-picnic"
   },
   "source": [
    "Variable **y** contains the total values of the property\n",
    "\n",
    "Variable **x** contains the features"
   ]
  },
  {
   "cell_type": "markdown",
   "metadata": {
    "id": "twelve-skill"
   },
   "source": [
    "#### STEP 2 - Split the Data into training and testing and validation split ( 70% Training, 20% Testing and 10% validation) ( Hint: you can use the sklearn library for this step only) ( 5 Points)"
   ]
  },
  {
   "cell_type": "code",
   "execution_count": 599,
   "metadata": {
    "id": "downtown-antarctica"
   },
   "outputs": [],
   "source": [
    "#STEP 2\n",
    "x_train_val,x_test,y_train_val,y_test = train_test_split(x,y,train_size=0.8)\n",
    "x_train,x_val,y_train,y_val = train_test_split(x,y,train_size=0.875)"
   ]
  },
  {
   "cell_type": "markdown",
   "metadata": {
    "id": "theoretical-allergy"
   },
   "source": [
    "#### STEP 3 - Scale Data Using Min Max Scaler (10 Points)\n",
    "For each feature scaled value can be calculated using $  x_{scaled} = \\frac{x - min(x)}{max(x) - min(x)}$\n"
   ]
  },
  {
   "cell_type": "code",
   "execution_count": 600,
   "metadata": {
    "id": "civilian-lounge"
   },
   "outputs": [],
   "source": [
    "#STEP 3\n",
    "x_scaled = np.zeros(x.shape)\n",
    "#min_arr = np.zeros(x.shape[1])\n",
    "#scale_factor = np.zeros(x.shape[1])\n",
    "\n",
    "for col in range(x.shape[1]):\n",
    "    min_arr = min(x[:,col])\n",
    "    scale_factor = 1/(max(x[:,col])-min(x[:,col]))\n",
    "    x_scaled[:,col] = (x[:,col] - min_arr)*scale_factor \n",
    "        \n",
    "x_train,x_test,y_train,y_test = train_test_split(x_scaled, y, train_size=0.8)\n",
    "x_train,x_val,y_train,y_val = train_test_split(x_train, y_train, train_size=0.875)"
   ]
  },
  {
   "cell_type": "markdown",
   "metadata": {
    "id": "prostate-disney"
   },
   "source": [
    "#### STEP 4 - Initialize values for the weights, No. of Epochs and Learning Rate (5 Points)"
   ]
  },
  {
   "cell_type": "code",
   "execution_count": 604,
   "metadata": {
    "id": "absolute-associate"
   },
   "outputs": [],
   "source": [
    "#STEP 4\n",
    "w0 = 0\n",
    "w1 = np.random.rand(15)#np.zeros(15)\n",
    "epoch_number = 100\n",
    "nu = 0.00001"
   ]
  },
  {
   "cell_type": "markdown",
   "metadata": {
    "id": "moved-parking"
   },
   "source": [
    "#### STEP 5 - Train Linear Regression Model (40 Points)\n",
    " 5.1 Start a Loop For each Epoch\n",
    " \n",
    " 5.2 Find the predicted value using $ y(x,w) = w_0 + w_1x $ for the training and validation splits (10 Points)\n",
    " \n",
    " 5.3 Find the Loss using Mean Squared Error for the training and validation splits and store in a list (10 Points)\n",
    " \n",
    " 5.4 Calculate the Gradients (15 Points)\n",
    " \n",
    " 5.5 Update the weights using the gradients (5 Points)"
   ]
  },
  {
   "cell_type": "code",
   "execution_count": 605,
   "metadata": {
    "id": "alleged-diary"
   },
   "outputs": [],
   "source": [
    "# STEP 5\n",
    "\n",
    "mse = []\n",
    "mse_val_arr = []\n",
    "\n",
    "for epoch in range(epoch_number):\n",
    "    ssd = 0\n",
    "    ddw1 = 0\n",
    "    ddw0 = 0\n",
    "    N = x_train.shape[0]\n",
    "    ssd_val = 0\n",
    "    N_val = x_val.shape[0]\n",
    "    \n",
    "#Validation Predicted Value\n",
    "    y_pred_val = w0+np.sum(np.multiply(w1,x_val),axis=1,keepdims=True)\n",
    "\n",
    "#Validation Mean Squared Error\n",
    "    ssd_val = np.sum((y_train-y_pred)**2)\n",
    "    mse_val = (1/N_val)*ssd_val #mean squared error\n",
    "    \n",
    "\n",
    "#Training Predicted Value    \n",
    "    y_pred = w0+np.sum(np.multiply(w1,x_train),axis=1,keepdims=True)\n",
    "\n",
    "#Training Gradients\n",
    "    ddw1 = (-2/N)*np.sum(x_train*(y_train-y_pred),axis=0) #partial derivative wrt w1\n",
    "    ddw0 = (-2/N)*np.sum((y_train-y_pred)) #partial derivative wrt w0\n",
    "    \n",
    "#Training MSE\n",
    "    ssd = np.sum((y_train-y_pred)**2)\n",
    "    mse_train = (1/N)*ssd #mean squared error\n",
    "    \n",
    "#Updating Weights\n",
    "    w1 = w1 - [nu*weight for weight in ddw1]\n",
    "    w0 = w0 - (nu*ddw0)\n",
    "\n",
    "#Storing MSE for Train and Validation in a List\n",
    "    mse.append(mse_train)\n",
    "    mse_val_arr.append(mse_val)\n"
   ]
  },
  {
   "cell_type": "markdown",
   "metadata": {
    "id": "fuzzy-prairie"
   },
   "source": [
    "#### STEP 6 - Evaluate the Model ( 25 Points)\n",
    "6.1 Plot a graph of the Training and Validation Loss wrt epochs (10 Points)\n",
    "\n",
    "6.2 Find the R2 Score of the trained model for the Train, Test and Validation splits (15 Points)"
   ]
  },
  {
   "cell_type": "code",
   "execution_count": 606,
   "metadata": {
    "id": "outstanding-jewel"
   },
   "outputs": [
    {
     "data": {
      "image/png": "[encoded data removed]",
      "text/plain": [
       "<Figure size 648x144 with 2 Axes>"
      ]
     },
     "metadata": {
      "needs_background": "light"
     },
     "output_type": "display_data"
    },
    {
     "name": "stdout",
     "output_type": "stream",
     "text": [
      "R2 for Training Set:  0.9999844075049568\n",
      "R2 for Validation Set:  0.9990040578899442\n",
      "R2 Test Set:  0.9997131151317707 \n",
      "\n",
      "Since calculated R2 values do not seem correct, the values using sklearn are also shown: \n",
      "R2 Train Set w/ sklearn:  -182.84324625037297\n",
      "R2 Validation Set w/ sklearn:  -4.595195382219029\n",
      "R2 Test Set w/ sklearn:  -4.307943831978193\n"
     ]
    }
   ],
   "source": [
    "# STEP 6\n",
    "epoch_count = np.linspace(0,epoch_number,num=epoch_number)\n",
    "plt.figure(figsize=(9, 2))\n",
    "plt.subplot(121)\n",
    "plt.plot(epoch_count,mse,label='Training')\n",
    "plt.subplot(122)\n",
    "plt.plot(epoch_count,mse_val_arr,label='Validation')\n",
    "plt.ylabel('Loss')\n",
    "plt.legend\n",
    "plt.show()\n",
    "\n",
    "\n",
    "final_prediction = np.zeros(y_test.shape)\n",
    "for row in range(final_prediction.shape[0]):\n",
    "    final_prediction[row] = w0+np.sum(np.multiply(x_test,w1))\n",
    "    \n",
    "final_prediction_train = np.zeros(y_train.shape)\n",
    "for row in range(final_prediction_train.shape[0]):\n",
    "    final_prediction_train[row] = w0+np.sum(np.multiply(x_train,w1))\n",
    "    \n",
    "final_prediction_val = np.zeros(y_val.shape)\n",
    "for row in range(final_prediction_val.shape[0]):\n",
    "    final_prediction_val[row] = w0+np.sum(np.multiply(x_val,w1))\n",
    "\n",
    "train_mean = np.mean(y_train)\n",
    "sst_train = np.sum((y_train-train_mean)**2)\n",
    "r2_train = 1-(mse[-1]/sst_train)\n",
    "print('R2 for Training Set: ',r2_train)\n",
    "\n",
    "\n",
    "val_mean = np.mean(y_val)\n",
    "sst_val = np.sum((y_val-val_mean)**2)\n",
    "r2_val = 1-(mse_val_arr[-1]/sst_val)\n",
    "print('R2 for Validation Set: ',r2_val)\n",
    "\n",
    "\n",
    "test_mean = np.mean(y_test)\n",
    "sst_test = np.sum((y_test-test_mean)**2)\n",
    "ssd_test = np.sum((y_test-final_prediction)**2)\n",
    "mse_test = (1/y_test.shape[0])*ssd_test\n",
    "r2_test = 1-(mse_test/sst_test)#\n",
    "print('R2 Test Set: ',r2_test,'\\n')\n",
    "\n",
    "print('Since calculated R2 values do not seem correct, the values using sklearn are also shown: ')\n",
    "print('R2 Train Set w/ sklearn: ', sklearn.metrics.r2_score(y_train, final_prediction_train))\n",
    "print('R2 Validation Set w/ sklearn: ',sklearn.metrics.r2_score(y_val, final_prediction_val))\n",
    "print('R2 Test Set w/ sklearn: ',sklearn.metrics.r2_score(y_test, final_prediction))\n"
   ]
  },
  {
   "cell_type": "code",
   "execution_count": null,
   "metadata": {},
   "outputs": [],
   "source": []
  },
  {
   "cell_type": "code",
   "execution_count": null,
   "metadata": {},
   "outputs": [],
   "source": []
  }
 ],
 "metadata": {
  "colab": {
   "name": "main.ipynb",
   "provenance": []
  },
  "kernelspec": {
   "display_name": "Python 3",
   "language": "python",
   "name": "python3"
  },
  "language_info": {
   "codemirror_mode": {
    "name": "ipython",
    "version": 3
   },
   "file_extension": ".py",
   "mimetype": "text/x-python",
   "name": "python",
   "nbconvert_exporter": "python",
   "pygments_lexer": "ipython3",
   "version": "3.8.5"
  }
 },
 "nbformat": 4,
 "nbformat_minor": 5
}
